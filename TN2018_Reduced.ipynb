{
 "cells": [
  {
   "cell_type": "code",
   "execution_count": null,
   "id": "719a071e",
   "metadata": {},
   "outputs": [],
   "source": [
    "# Dependencies.\n",
    "import pandas as pd\n",
    "from pathlib import Path"
   ]
  },
  {
   "cell_type": "code",
   "execution_count": null,
   "id": "13767abd",
   "metadata": {},
   "outputs": [],
   "source": [
    "# Establish file paths for csv files.\n",
    "csv_path_5 = Path(\"Resources_2020/NIBRS_ARRESTEE.csv\")\n",
    "csv_path_18 = Path(\"Resources_2020/NIBRS_OFFENDER.csv\")\n",
    "csv_path_19 = Path(\"Resources_2020/NIBRS_OFFENSE.csv\")\n",
    "csv_path_20 = Path(\"Resources_2020/NIBRS_OFFENSE_TYPE.csv\")\n",
    "csv_path_23 = Path(\"Resources_2020/NIBRS_PROPERTY.csv\")\n",
    "csv_path_30 = Path(\"Resources_2020/NIBRS_VICTIM.csv\")"
   ]
  },
  {
   "cell_type": "code",
   "execution_count": null,
   "id": "769b68ff",
   "metadata": {},
   "outputs": [],
   "source": [
    "# Read in the csv files.\n",
    "csv_5 = pd.read_csv(csv_path_5)\n",
    "csv_18 = pd.read_csv(csv_path_18)\n",
    "csv_19 = pd.read_csv(csv_path_19)\n",
    "csv_20 = pd.read_csv(csv_path_20)\n",
    "csv_23 = pd.read_csv(csv_path_23)\n",
    "csv_30 = pd.read_csv(csv_path_30)"
   ]
  },
  {
   "cell_type": "code",
   "execution_count": null,
   "id": "ef65e2dc",
   "metadata": {},
   "outputs": [],
   "source": [
    "Incident_ID = pd.merge(csv_5, csv_19, on = \"INCIDENT_ID\", how = \"outer\")\n",
    "Incident_ID_2 = pd.merge(Incident_ID, csv_18, on = \"INCIDENT_ID\", how = \"inner\")\n",
    "Unique = len(Incident_ID_2[\"INCIDENT_ID\"].unique())\n",
    "Unique"
   ]
  },
  {
   "cell_type": "code",
   "execution_count": null,
   "id": "06be5a3b",
   "metadata": {},
   "outputs": [],
   "source": [
    "Incident_ID_2.shape"
   ]
  },
  {
   "cell_type": "code",
   "execution_count": null,
   "id": "0c5340c9",
   "metadata": {},
   "outputs": [],
   "source": [
    "Incident_ID_2[\"OFFENSE_TYPE\"] = \"\"\n",
    "for index, row in Incident_ID_2.iterrows():\n",
    "    Incident_ID_2.loc[index, \"OFFENSE_TYPE\"] = (get_offense(row[\"OFFENSE_TYPE_ID_y\"]).values[0])"
   ]
  },
  {
   "cell_type": "code",
   "execution_count": null,
   "id": "a7ed8639",
   "metadata": {},
   "outputs": [],
   "source": [
    " Incident_ID_2.loc[0, \"OFFENSE_TYPE_ID_y\"]"
   ]
  },
  {
   "cell_type": "code",
   "execution_count": null,
   "id": "da6f7054",
   "metadata": {},
   "outputs": [],
   "source": [
    "Incident_ID_2"
   ]
  },
  {
   "cell_type": "code",
   "execution_count": null,
   "id": "0871d25b",
   "metadata": {},
   "outputs": [],
   "source": []
  }
 ],
 "metadata": {
  "kernelspec": {
   "display_name": "Python 3 (ipykernel)",
   "language": "python",
   "name": "python3"
  },
  "language_info": {
   "codemirror_mode": {
    "name": "ipython",
    "version": 3
   },
   "file_extension": ".py",
   "mimetype": "text/x-python",
   "name": "python",
   "nbconvert_exporter": "python",
   "pygments_lexer": "ipython3",
   "version": "3.10.13"
  }
 },
 "nbformat": 4,
 "nbformat_minor": 5
}
